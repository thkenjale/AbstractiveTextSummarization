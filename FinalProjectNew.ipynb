{
 "cells": [
  {
   "cell_type": "markdown",
   "metadata": {},
   "source": [
    "# Abstractive Text Summarization on the WikiHow Dataset\n",
    "\n",
    "## Tanmay Kenjale - 801054629 - ITCS 4111\n"
   ]
  },
  {
   "cell_type": "markdown",
   "metadata": {},
   "source": [
    "### Import dependencies"
   ]
  },
  {
   "cell_type": "code",
   "execution_count": 1,
   "metadata": {
    "colab": {},
    "colab_type": "code",
    "id": "FzBZ0t6_iAcm"
   },
   "outputs": [],
   "source": [
    "import os\n",
    "path = os.getcwd()\n",
    "# Using custom Attention Layer found here: https://github.com/thushv89/attention_keras/blob/master/layers/attention.py\n",
    "from attention import AttentionLayer\n",
    "os.chdir(path + '/data')"
   ]
  },
  {
   "cell_type": "code",
   "execution_count": 2,
   "metadata": {
    "colab": {
     "base_uri": "https://localhost:8080/",
     "height": 413
    },
    "colab_type": "code",
    "id": "2VYP3JociZYE",
    "outputId": "87a82e73-1963-439b-b8bf-8a23902623ee"
   },
   "outputs": [
    {
     "name": "stderr",
     "output_type": "stream",
     "text": [
      "Using TensorFlow backend.\n"
     ]
    }
   ],
   "source": [
    "import numpy as np\n",
    "import pandas as pd\n",
    "import re\n",
    "from sklearn.model_selection import train_test_split\n",
    "from tensorflow.keras.layers import Input, Embedding, LSTM, Dense, TimeDistributed, Concatenate\n",
    "from tensorflow.keras.models import Model, load_model\n",
    "from keras import backend as K\n",
    "import tensorflow as tf\n",
    "from keras.preprocessing.sequence import pad_sequences\n",
    "from keras.preprocessing.text import Tokenizer\n",
    "import matplotlib.pyplot as plt\n",
    "from rouge import Rouge"
   ]
  },
  {
   "cell_type": "code",
   "execution_count": 3,
   "metadata": {
    "colab": {
     "base_uri": "https://localhost:8080/",
     "height": 122
    },
    "colab_type": "code",
    "id": "vDGvAiLPRHrY",
    "outputId": "60d78193-f50f-4527-eaed-5153327bfaf8"
   },
   "outputs": [
    {
     "data": {
      "text/plain": [
       "'/device:GPU:0'"
      ]
     },
     "execution_count": 3,
     "metadata": {},
     "output_type": "execute_result"
    }
   ],
   "source": [
    "# Check if GPU is active\n",
    "tf.test.gpu_device_name()"
   ]
  },
  {
   "cell_type": "markdown",
   "metadata": {},
   "source": [
    "### Read and clean WikiHow Dataset"
   ]
  },
  {
   "cell_type": "code",
   "execution_count": 3,
   "metadata": {
    "colab": {
     "base_uri": "https://localhost:8080/",
     "height": 204
    },
    "colab_type": "code",
    "id": "5j-dCHH2ihIN",
    "outputId": "3e1d9447-035f-4e3f-84c2-a62f42efad5c"
   },
   "outputs": [
    {
     "data": {
      "text/html": [
       "<div>\n",
       "<style scoped>\n",
       "    .dataframe tbody tr th:only-of-type {\n",
       "        vertical-align: middle;\n",
       "    }\n",
       "\n",
       "    .dataframe tbody tr th {\n",
       "        vertical-align: top;\n",
       "    }\n",
       "\n",
       "    .dataframe thead th {\n",
       "        text-align: right;\n",
       "    }\n",
       "</style>\n",
       "<table border=\"1\" class=\"dataframe\">\n",
       "  <thead>\n",
       "    <tr style=\"text-align: right;\">\n",
       "      <th></th>\n",
       "      <th>overview</th>\n",
       "      <th>headline</th>\n",
       "      <th>text</th>\n",
       "      <th>sectionLabel</th>\n",
       "      <th>title</th>\n",
       "    </tr>\n",
       "  </thead>\n",
       "  <tbody>\n",
       "    <tr>\n",
       "      <th>0</th>\n",
       "      <td>So you're a new or aspiring artist and your c...</td>\n",
       "      <td>\\nSell yourself first.</td>\n",
       "      <td>Before doing anything else, stop and sum up y...</td>\n",
       "      <td>Steps</td>\n",
       "      <td>How to Sell Fine Art Online</td>\n",
       "    </tr>\n",
       "    <tr>\n",
       "      <th>1</th>\n",
       "      <td>If you want to be well-read, then, in the wor...</td>\n",
       "      <td>\\nRead the classics before 1600.</td>\n",
       "      <td>Reading the classics is the very first thing ...</td>\n",
       "      <td>Reading the Classics</td>\n",
       "      <td>How to Be Well Read</td>\n",
       "    </tr>\n",
       "    <tr>\n",
       "      <th>2</th>\n",
       "      <td>So you're a new or aspiring artist and your c...</td>\n",
       "      <td>\\nJoin online artist communities.</td>\n",
       "      <td>Depending on what scale you intend to sell yo...</td>\n",
       "      <td>Steps</td>\n",
       "      <td>How to Sell Fine Art Online</td>\n",
       "    </tr>\n",
       "    <tr>\n",
       "      <th>3</th>\n",
       "      <td>So you're a new or aspiring artist and your c...</td>\n",
       "      <td>\\nMake yourself public.</td>\n",
       "      <td>Get yourself out there as best as you can by ...</td>\n",
       "      <td>Steps</td>\n",
       "      <td>How to Sell Fine Art Online</td>\n",
       "    </tr>\n",
       "    <tr>\n",
       "      <th>4</th>\n",
       "      <td>So you're a new or aspiring artist and your c...</td>\n",
       "      <td>\\nBlog about your artwork.</td>\n",
       "      <td>Given the hundreds of free blogging websites,...</td>\n",
       "      <td>Steps</td>\n",
       "      <td>How to Sell Fine Art Online</td>\n",
       "    </tr>\n",
       "  </tbody>\n",
       "</table>\n",
       "</div>"
      ],
      "text/plain": [
       "                                            overview  \\\n",
       "0   So you're a new or aspiring artist and your c...   \n",
       "1   If you want to be well-read, then, in the wor...   \n",
       "2   So you're a new or aspiring artist and your c...   \n",
       "3   So you're a new or aspiring artist and your c...   \n",
       "4   So you're a new or aspiring artist and your c...   \n",
       "\n",
       "                            headline  \\\n",
       "0             \\nSell yourself first.   \n",
       "1   \\nRead the classics before 1600.   \n",
       "2  \\nJoin online artist communities.   \n",
       "3            \\nMake yourself public.   \n",
       "4         \\nBlog about your artwork.   \n",
       "\n",
       "                                                text          sectionLabel  \\\n",
       "0   Before doing anything else, stop and sum up y...                 Steps   \n",
       "1   Reading the classics is the very first thing ...  Reading the Classics   \n",
       "2   Depending on what scale you intend to sell yo...                 Steps   \n",
       "3   Get yourself out there as best as you can by ...                 Steps   \n",
       "4   Given the hundreds of free blogging websites,...                 Steps   \n",
       "\n",
       "                         title  \n",
       "0  How to Sell Fine Art Online  \n",
       "1          How to Be Well Read  \n",
       "2  How to Sell Fine Art Online  \n",
       "3  How to Sell Fine Art Online  \n",
       "4  How to Sell Fine Art Online  "
      ]
     },
     "execution_count": 3,
     "metadata": {},
     "output_type": "execute_result"
    }
   ],
   "source": [
    "# Data found here: https://ucsb.app.box.com/s/7yq601ijl1lzvlfu4rjdbbxforzd2oag\n",
    "\n",
    "df = pd.read_csv('wikihowSep.csv')\n",
    "df.head()"
   ]
  },
  {
   "cell_type": "code",
   "execution_count": 4,
   "metadata": {
    "colab": {},
    "colab_type": "code",
    "id": "CpaYfTAKr2-_"
   },
   "outputs": [],
   "source": [
    "df.dropna(inplace=True)"
   ]
  },
  {
   "cell_type": "code",
   "execution_count": 5,
   "metadata": {
    "colab": {},
    "colab_type": "code",
    "id": "N5G2aar3rhbo"
   },
   "outputs": [],
   "source": [
    "texts = []\n",
    "\n",
    "for text in df['text']:\n",
    "    text = text.lower()\n",
    "    text = re.sub('\\n', '', text)\n",
    "    text = re.sub(\"[^a-zA-Z^']\", \" \", text)\n",
    "    text = re.sub(\" {2,}\", \" \", text)\n",
    "    text = text.strip()\n",
    "    texts.append(text)\n",
    "\n",
    "headlines = []\n",
    "\n",
    "for head in df['headline']:\n",
    "    head = head.lower()\n",
    "    head = re.sub('\\n', '', head)\n",
    "    head = re.sub(\"[^a-zA-Z^']\", \" \", head)\n",
    "    head = re.sub(\" {2,}\", \" \", head)\n",
    "    head = head.strip()\n",
    "    # Add start and end tags\n",
    "    head = 'START ' + head + ' END'\n",
    "    headlines.append(head)"
   ]
  },
  {
   "cell_type": "code",
   "execution_count": 6,
   "metadata": {
    "colab": {
     "base_uri": "https://localhost:8080/",
     "height": 204
    },
    "colab_type": "code",
    "id": "jQZdwadvs9Nk",
    "outputId": "0f225e16-69a8-4ced-c3a2-887ea28e8cee"
   },
   "outputs": [
    {
     "data": {
      "text/html": [
       "<div>\n",
       "<style scoped>\n",
       "    .dataframe tbody tr th:only-of-type {\n",
       "        vertical-align: middle;\n",
       "    }\n",
       "\n",
       "    .dataframe tbody tr th {\n",
       "        vertical-align: top;\n",
       "    }\n",
       "\n",
       "    .dataframe thead th {\n",
       "        text-align: right;\n",
       "    }\n",
       "</style>\n",
       "<table border=\"1\" class=\"dataframe\">\n",
       "  <thead>\n",
       "    <tr style=\"text-align: right;\">\n",
       "      <th></th>\n",
       "      <th>overview</th>\n",
       "      <th>headline</th>\n",
       "      <th>text</th>\n",
       "      <th>sectionLabel</th>\n",
       "      <th>title</th>\n",
       "      <th>clean_text</th>\n",
       "      <th>clean_headlines</th>\n",
       "    </tr>\n",
       "  </thead>\n",
       "  <tbody>\n",
       "    <tr>\n",
       "      <th>0</th>\n",
       "      <td>So you're a new or aspiring artist and your c...</td>\n",
       "      <td>\\nSell yourself first.</td>\n",
       "      <td>Before doing anything else, stop and sum up y...</td>\n",
       "      <td>Steps</td>\n",
       "      <td>How to Sell Fine Art Online</td>\n",
       "      <td>before doing anything else stop and sum up you...</td>\n",
       "      <td>START sell yourself first END</td>\n",
       "    </tr>\n",
       "    <tr>\n",
       "      <th>1</th>\n",
       "      <td>If you want to be well-read, then, in the wor...</td>\n",
       "      <td>\\nRead the classics before 1600.</td>\n",
       "      <td>Reading the classics is the very first thing ...</td>\n",
       "      <td>Reading the Classics</td>\n",
       "      <td>How to Be Well Read</td>\n",
       "      <td>reading the classics is the very first thing y...</td>\n",
       "      <td>START read the classics before END</td>\n",
       "    </tr>\n",
       "    <tr>\n",
       "      <th>2</th>\n",
       "      <td>So you're a new or aspiring artist and your c...</td>\n",
       "      <td>\\nJoin online artist communities.</td>\n",
       "      <td>Depending on what scale you intend to sell yo...</td>\n",
       "      <td>Steps</td>\n",
       "      <td>How to Sell Fine Art Online</td>\n",
       "      <td>depending on what scale you intend to sell you...</td>\n",
       "      <td>START join online artist communities END</td>\n",
       "    </tr>\n",
       "    <tr>\n",
       "      <th>3</th>\n",
       "      <td>So you're a new or aspiring artist and your c...</td>\n",
       "      <td>\\nMake yourself public.</td>\n",
       "      <td>Get yourself out there as best as you can by ...</td>\n",
       "      <td>Steps</td>\n",
       "      <td>How to Sell Fine Art Online</td>\n",
       "      <td>get yourself out there as best as you can by a...</td>\n",
       "      <td>START make yourself public END</td>\n",
       "    </tr>\n",
       "    <tr>\n",
       "      <th>4</th>\n",
       "      <td>So you're a new or aspiring artist and your c...</td>\n",
       "      <td>\\nBlog about your artwork.</td>\n",
       "      <td>Given the hundreds of free blogging websites,...</td>\n",
       "      <td>Steps</td>\n",
       "      <td>How to Sell Fine Art Online</td>\n",
       "      <td>given the hundreds of free blogging websites y...</td>\n",
       "      <td>START blog about your artwork END</td>\n",
       "    </tr>\n",
       "  </tbody>\n",
       "</table>\n",
       "</div>"
      ],
      "text/plain": [
       "                                            overview  \\\n",
       "0   So you're a new or aspiring artist and your c...   \n",
       "1   If you want to be well-read, then, in the wor...   \n",
       "2   So you're a new or aspiring artist and your c...   \n",
       "3   So you're a new or aspiring artist and your c...   \n",
       "4   So you're a new or aspiring artist and your c...   \n",
       "\n",
       "                            headline  \\\n",
       "0             \\nSell yourself first.   \n",
       "1   \\nRead the classics before 1600.   \n",
       "2  \\nJoin online artist communities.   \n",
       "3            \\nMake yourself public.   \n",
       "4         \\nBlog about your artwork.   \n",
       "\n",
       "                                                text          sectionLabel  \\\n",
       "0   Before doing anything else, stop and sum up y...                 Steps   \n",
       "1   Reading the classics is the very first thing ...  Reading the Classics   \n",
       "2   Depending on what scale you intend to sell yo...                 Steps   \n",
       "3   Get yourself out there as best as you can by ...                 Steps   \n",
       "4   Given the hundreds of free blogging websites,...                 Steps   \n",
       "\n",
       "                         title  \\\n",
       "0  How to Sell Fine Art Online   \n",
       "1          How to Be Well Read   \n",
       "2  How to Sell Fine Art Online   \n",
       "3  How to Sell Fine Art Online   \n",
       "4  How to Sell Fine Art Online   \n",
       "\n",
       "                                          clean_text  \\\n",
       "0  before doing anything else stop and sum up you...   \n",
       "1  reading the classics is the very first thing y...   \n",
       "2  depending on what scale you intend to sell you...   \n",
       "3  get yourself out there as best as you can by a...   \n",
       "4  given the hundreds of free blogging websites y...   \n",
       "\n",
       "                            clean_headlines  \n",
       "0             START sell yourself first END  \n",
       "1        START read the classics before END  \n",
       "2  START join online artist communities END  \n",
       "3            START make yourself public END  \n",
       "4         START blog about your artwork END  "
      ]
     },
     "execution_count": 6,
     "metadata": {},
     "output_type": "execute_result"
    }
   ],
   "source": [
    "df['clean_text'] = texts\n",
    "df['clean_headlines'] = headlines\n",
    "df.head()"
   ]
  },
  {
   "cell_type": "code",
   "execution_count": 7,
   "metadata": {
    "colab": {
     "base_uri": "https://localhost:8080/",
     "height": 204
    },
    "colab_type": "code",
    "id": "b-PH7HFRxFgM",
    "outputId": "c5a4b857-772f-4c48-9c56-b1aeb2b1a654"
   },
   "outputs": [
    {
     "data": {
      "text/html": [
       "<div>\n",
       "<style scoped>\n",
       "    .dataframe tbody tr th:only-of-type {\n",
       "        vertical-align: middle;\n",
       "    }\n",
       "\n",
       "    .dataframe tbody tr th {\n",
       "        vertical-align: top;\n",
       "    }\n",
       "\n",
       "    .dataframe thead th {\n",
       "        text-align: right;\n",
       "    }\n",
       "</style>\n",
       "<table border=\"1\" class=\"dataframe\">\n",
       "  <thead>\n",
       "    <tr style=\"text-align: right;\">\n",
       "      <th></th>\n",
       "      <th>clean_text</th>\n",
       "      <th>clean_headlines</th>\n",
       "    </tr>\n",
       "  </thead>\n",
       "  <tbody>\n",
       "    <tr>\n",
       "      <th>0</th>\n",
       "      <td>before doing anything else stop and sum up you...</td>\n",
       "      <td>START sell yourself first END</td>\n",
       "    </tr>\n",
       "    <tr>\n",
       "      <th>1</th>\n",
       "      <td>reading the classics is the very first thing y...</td>\n",
       "      <td>START read the classics before END</td>\n",
       "    </tr>\n",
       "    <tr>\n",
       "      <th>2</th>\n",
       "      <td>depending on what scale you intend to sell you...</td>\n",
       "      <td>START join online artist communities END</td>\n",
       "    </tr>\n",
       "    <tr>\n",
       "      <th>3</th>\n",
       "      <td>get yourself out there as best as you can by a...</td>\n",
       "      <td>START make yourself public END</td>\n",
       "    </tr>\n",
       "    <tr>\n",
       "      <th>4</th>\n",
       "      <td>given the hundreds of free blogging websites y...</td>\n",
       "      <td>START blog about your artwork END</td>\n",
       "    </tr>\n",
       "  </tbody>\n",
       "</table>\n",
       "</div>"
      ],
      "text/plain": [
       "                                          clean_text  \\\n",
       "0  before doing anything else stop and sum up you...   \n",
       "1  reading the classics is the very first thing y...   \n",
       "2  depending on what scale you intend to sell you...   \n",
       "3  get yourself out there as best as you can by a...   \n",
       "4  given the hundreds of free blogging websites y...   \n",
       "\n",
       "                            clean_headlines  \n",
       "0             START sell yourself first END  \n",
       "1        START read the classics before END  \n",
       "2  START join online artist communities END  \n",
       "3            START make yourself public END  \n",
       "4         START blog about your artwork END  "
      ]
     },
     "execution_count": 7,
     "metadata": {},
     "output_type": "execute_result"
    }
   ],
   "source": [
    "df_clean = df[['clean_text', 'clean_headlines']]\n",
    "df_clean.head()"
   ]
  },
  {
   "cell_type": "code",
   "execution_count": 8,
   "metadata": {
    "colab": {},
    "colab_type": "code",
    "id": "VjzvC-nzxTXa"
   },
   "outputs": [],
   "source": [
    "# Find lenghts of texts and headlines\n",
    "\n",
    "t_lengths = []\n",
    "h_lengths = []\n",
    "\n",
    "for i in range(df_clean['clean_text'].count()):\n",
    "    try:\n",
    "        t = len(df_clean['clean_text'][i].split())\n",
    "        t_lengths.append(t)\n",
    "    except:\n",
    "        t_lengths.append(np.nan)\n",
    "    try:\n",
    "        h = len(df_clean['clean_headlines'][i].split())\n",
    "        h_lengths.append(h)\n",
    "    except:\n",
    "        h_lengths.append(np.nan)"
   ]
  },
  {
   "cell_type": "code",
   "execution_count": 9,
   "metadata": {
    "colab": {
     "base_uri": "https://localhost:8080/",
     "height": 493
    },
    "colab_type": "code",
    "id": "sNOAD8_4hQtx",
    "outputId": "20e365d7-4d88-47ee-bd50-234399100f27"
   },
   "outputs": [
    {
     "name": "stderr",
     "output_type": "stream",
     "text": [
      "/usr/local/lib/python3.5/dist-packages/ipykernel_launcher.py:1: SettingWithCopyWarning: \n",
      "A value is trying to be set on a copy of a slice from a DataFrame.\n",
      "Try using .loc[row_indexer,col_indexer] = value instead\n",
      "\n",
      "See the caveats in the documentation: http://pandas.pydata.org/pandas-docs/stable/user_guide/indexing.html#returning-a-view-versus-a-copy\n",
      "  \"\"\"Entry point for launching an IPython kernel.\n",
      "/usr/local/lib/python3.5/dist-packages/ipykernel_launcher.py:2: SettingWithCopyWarning: \n",
      "A value is trying to be set on a copy of a slice from a DataFrame.\n",
      "Try using .loc[row_indexer,col_indexer] = value instead\n",
      "\n",
      "See the caveats in the documentation: http://pandas.pydata.org/pandas-docs/stable/user_guide/indexing.html#returning-a-view-versus-a-copy\n",
      "  \n",
      "/usr/local/lib/python3.5/dist-packages/ipykernel_launcher.py:3: SettingWithCopyWarning: \n",
      "A value is trying to be set on a copy of a slice from a DataFrame\n",
      "\n",
      "See the caveats in the documentation: http://pandas.pydata.org/pandas-docs/stable/user_guide/indexing.html#returning-a-view-versus-a-copy\n",
      "  This is separate from the ipykernel package so we can avoid doing imports until\n"
     ]
    },
    {
     "data": {
      "text/html": [
       "<div>\n",
       "<style scoped>\n",
       "    .dataframe tbody tr th:only-of-type {\n",
       "        vertical-align: middle;\n",
       "    }\n",
       "\n",
       "    .dataframe tbody tr th {\n",
       "        vertical-align: top;\n",
       "    }\n",
       "\n",
       "    .dataframe thead th {\n",
       "        text-align: right;\n",
       "    }\n",
       "</style>\n",
       "<table border=\"1\" class=\"dataframe\">\n",
       "  <thead>\n",
       "    <tr style=\"text-align: right;\">\n",
       "      <th></th>\n",
       "      <th>clean_text</th>\n",
       "      <th>clean_headlines</th>\n",
       "      <th>text_len</th>\n",
       "      <th>headline_len</th>\n",
       "    </tr>\n",
       "  </thead>\n",
       "  <tbody>\n",
       "    <tr>\n",
       "      <th>0</th>\n",
       "      <td>before doing anything else stop and sum up you...</td>\n",
       "      <td>START sell yourself first END</td>\n",
       "      <td>114.0</td>\n",
       "      <td>5.0</td>\n",
       "    </tr>\n",
       "    <tr>\n",
       "      <th>1</th>\n",
       "      <td>reading the classics is the very first thing y...</td>\n",
       "      <td>START read the classics before END</td>\n",
       "      <td>170.0</td>\n",
       "      <td>6.0</td>\n",
       "    </tr>\n",
       "    <tr>\n",
       "      <th>2</th>\n",
       "      <td>depending on what scale you intend to sell you...</td>\n",
       "      <td>START join online artist communities END</td>\n",
       "      <td>255.0</td>\n",
       "      <td>6.0</td>\n",
       "    </tr>\n",
       "    <tr>\n",
       "      <th>3</th>\n",
       "      <td>get yourself out there as best as you can by a...</td>\n",
       "      <td>START make yourself public END</td>\n",
       "      <td>199.0</td>\n",
       "      <td>5.0</td>\n",
       "    </tr>\n",
       "    <tr>\n",
       "      <th>4</th>\n",
       "      <td>given the hundreds of free blogging websites y...</td>\n",
       "      <td>START blog about your artwork END</td>\n",
       "      <td>170.0</td>\n",
       "      <td>6.0</td>\n",
       "    </tr>\n",
       "  </tbody>\n",
       "</table>\n",
       "</div>"
      ],
      "text/plain": [
       "                                          clean_text  \\\n",
       "0  before doing anything else stop and sum up you...   \n",
       "1  reading the classics is the very first thing y...   \n",
       "2  depending on what scale you intend to sell you...   \n",
       "3  get yourself out there as best as you can by a...   \n",
       "4  given the hundreds of free blogging websites y...   \n",
       "\n",
       "                            clean_headlines  text_len  headline_len  \n",
       "0             START sell yourself first END     114.0           5.0  \n",
       "1        START read the classics before END     170.0           6.0  \n",
       "2  START join online artist communities END     255.0           6.0  \n",
       "3            START make yourself public END     199.0           5.0  \n",
       "4         START blog about your artwork END     170.0           6.0  "
      ]
     },
     "execution_count": 9,
     "metadata": {},
     "output_type": "execute_result"
    }
   ],
   "source": [
    "df_clean['text_len'] = t_lengths\n",
    "df_clean['headline_len'] = h_lengths\n",
    "df_clean.dropna(inplace=True)\n",
    "df_clean.head()"
   ]
  },
  {
   "cell_type": "markdown",
   "metadata": {},
   "source": [
    "### Find distribution of text and headline lengths"
   ]
  },
  {
   "cell_type": "code",
   "execution_count": 10,
   "metadata": {
    "colab": {
     "base_uri": "https://localhost:8080/",
     "height": 316
    },
    "colab_type": "code",
    "id": "Wcx11k27iaRc",
    "outputId": "e207fdb7-8db6-4bee-bd47-ca36b9fd76b6"
   },
   "outputs": [
    {
     "data": {
      "image/png": "[encoded data removed]",
      "text/plain": [
       "<Figure size 432x288 with 1 Axes>"
      ]
     },
     "metadata": {
      "needs_background": "light"
     },
     "output_type": "display_data"
    },
    {
     "name": "stdout",
     "output_type": "stream",
     "text": [
      "Mean text length:  68.81038522815408\n",
      "Max text length:  2792.0\n",
      "Min text length:  0.0\n"
     ]
    }
   ],
   "source": [
    "df_clean['text_len'].hist(bins=30)\n",
    "plt.show()\n",
    "print('Mean text length: ', df_clean['text_len'].mean())\n",
    "print('Max text length: ', df_clean['text_len'].max())\n",
    "print('Min text length: ', df_clean['text_len'].min())"
   ]
  },
  {
   "cell_type": "code",
   "execution_count": 11,
   "metadata": {
    "colab": {
     "base_uri": "https://localhost:8080/",
     "height": 316
    },
    "colab_type": "code",
    "id": "9_9B-VTM7hGP",
    "outputId": "4dc13e1b-5f6e-4775-c097-1d2621248337"
   },
   "outputs": [
    {
     "data": {
      "image/png": "[encoded data removed]",
      "text/plain": [
       "<Figure size 432x288 with 1 Axes>"
      ]
     },
     "metadata": {
      "needs_background": "light"
     },
     "output_type": "display_data"
    },
    {
     "name": "stdout",
     "output_type": "stream",
     "text": [
      "Mean headline length:  9.239013056332375\n",
      "Max headline length:  1992.0\n",
      "Min headline length:  2.0\n"
     ]
    }
   ],
   "source": [
    "df_clean['headline_len'].hist(bins=30)\n",
    "plt.show()\n",
    "print('Mean headline length: ', df_clean['headline_len'].mean())\n",
    "print('Max headline length: ', df_clean['headline_len'].max())\n",
    "print('Min headline length: ', df_clean['headline_len'].min())"
   ]
  },
  {
   "cell_type": "code",
   "execution_count": 12,
   "metadata": {},
   "outputs": [
    {
     "data": {
      "text/html": [
       "<div>\n",
       "<style scoped>\n",
       "    .dataframe tbody tr th:only-of-type {\n",
       "        vertical-align: middle;\n",
       "    }\n",
       "\n",
       "    .dataframe tbody tr th {\n",
       "        vertical-align: top;\n",
       "    }\n",
       "\n",
       "    .dataframe thead th {\n",
       "        text-align: right;\n",
       "    }\n",
       "</style>\n",
       "<table border=\"1\" class=\"dataframe\">\n",
       "  <thead>\n",
       "    <tr style=\"text-align: right;\">\n",
       "      <th></th>\n",
       "      <th>text_len</th>\n",
       "      <th>headline_len</th>\n",
       "    </tr>\n",
       "  </thead>\n",
       "  <tbody>\n",
       "    <tr>\n",
       "      <th>count</th>\n",
       "      <td>1.213281e+06</td>\n",
       "      <td>1.213281e+06</td>\n",
       "    </tr>\n",
       "    <tr>\n",
       "      <th>mean</th>\n",
       "      <td>6.881039e+01</td>\n",
       "      <td>9.239013e+00</td>\n",
       "    </tr>\n",
       "    <tr>\n",
       "      <th>std</th>\n",
       "      <td>5.453138e+01</td>\n",
       "      <td>5.747883e+00</td>\n",
       "    </tr>\n",
       "    <tr>\n",
       "      <th>min</th>\n",
       "      <td>0.000000e+00</td>\n",
       "      <td>2.000000e+00</td>\n",
       "    </tr>\n",
       "    <tr>\n",
       "      <th>25%</th>\n",
       "      <td>3.000000e+01</td>\n",
       "      <td>6.000000e+00</td>\n",
       "    </tr>\n",
       "    <tr>\n",
       "      <th>50%</th>\n",
       "      <td>5.700000e+01</td>\n",
       "      <td>8.000000e+00</td>\n",
       "    </tr>\n",
       "    <tr>\n",
       "      <th>75%</th>\n",
       "      <td>9.500000e+01</td>\n",
       "      <td>1.100000e+01</td>\n",
       "    </tr>\n",
       "    <tr>\n",
       "      <th>max</th>\n",
       "      <td>2.792000e+03</td>\n",
       "      <td>1.992000e+03</td>\n",
       "    </tr>\n",
       "  </tbody>\n",
       "</table>\n",
       "</div>"
      ],
      "text/plain": [
       "           text_len  headline_len\n",
       "count  1.213281e+06  1.213281e+06\n",
       "mean   6.881039e+01  9.239013e+00\n",
       "std    5.453138e+01  5.747883e+00\n",
       "min    0.000000e+00  2.000000e+00\n",
       "25%    3.000000e+01  6.000000e+00\n",
       "50%    5.700000e+01  8.000000e+00\n",
       "75%    9.500000e+01  1.100000e+01\n",
       "max    2.792000e+03  1.992000e+03"
      ]
     },
     "execution_count": 12,
     "metadata": {},
     "output_type": "execute_result"
    }
   ],
   "source": [
    "df_clean.describe()"
   ]
  },
  {
   "cell_type": "markdown",
   "metadata": {},
   "source": [
    "### Delete outliers that have very small or very large lengths"
   ]
  },
  {
   "cell_type": "code",
   "execution_count": 13,
   "metadata": {
    "colab": {},
    "colab_type": "code",
    "id": "fbohvqKo7_72"
   },
   "outputs": [],
   "source": [
    "df_red = df_clean[(df_clean['text_len'] >= 10) & (df_clean['text_len'] <= 150)]"
   ]
  },
  {
   "cell_type": "code",
   "execution_count": 14,
   "metadata": {
    "colab": {},
    "colab_type": "code",
    "id": "9Wegchk_8jfV"
   },
   "outputs": [],
   "source": [
    "df_red = df_red[(df_red['headline_len'] >= 1) & (df_red['headline_len'] <= 20)]"
   ]
  },
  {
   "cell_type": "code",
   "execution_count": 15,
   "metadata": {},
   "outputs": [
    {
     "data": {
      "text/html": [
       "<div>\n",
       "<style scoped>\n",
       "    .dataframe tbody tr th:only-of-type {\n",
       "        vertical-align: middle;\n",
       "    }\n",
       "\n",
       "    .dataframe tbody tr th {\n",
       "        vertical-align: top;\n",
       "    }\n",
       "\n",
       "    .dataframe thead th {\n",
       "        text-align: right;\n",
       "    }\n",
       "</style>\n",
       "<table border=\"1\" class=\"dataframe\">\n",
       "  <thead>\n",
       "    <tr style=\"text-align: right;\">\n",
       "      <th></th>\n",
       "      <th>text_len</th>\n",
       "      <th>headline_len</th>\n",
       "    </tr>\n",
       "  </thead>\n",
       "  <tbody>\n",
       "    <tr>\n",
       "      <th>count</th>\n",
       "      <td>1.016549e+06</td>\n",
       "      <td>1.016549e+06</td>\n",
       "    </tr>\n",
       "    <tr>\n",
       "      <th>mean</th>\n",
       "      <td>6.277893e+01</td>\n",
       "      <td>8.381164e+00</td>\n",
       "    </tr>\n",
       "    <tr>\n",
       "      <th>std</th>\n",
       "      <td>3.583432e+01</td>\n",
       "      <td>3.459645e+00</td>\n",
       "    </tr>\n",
       "    <tr>\n",
       "      <th>min</th>\n",
       "      <td>1.000000e+01</td>\n",
       "      <td>2.000000e+00</td>\n",
       "    </tr>\n",
       "    <tr>\n",
       "      <th>25%</th>\n",
       "      <td>3.300000e+01</td>\n",
       "      <td>6.000000e+00</td>\n",
       "    </tr>\n",
       "    <tr>\n",
       "      <th>50%</th>\n",
       "      <td>5.700000e+01</td>\n",
       "      <td>8.000000e+00</td>\n",
       "    </tr>\n",
       "    <tr>\n",
       "      <th>75%</th>\n",
       "      <td>8.800000e+01</td>\n",
       "      <td>1.000000e+01</td>\n",
       "    </tr>\n",
       "    <tr>\n",
       "      <th>max</th>\n",
       "      <td>1.500000e+02</td>\n",
       "      <td>2.000000e+01</td>\n",
       "    </tr>\n",
       "  </tbody>\n",
       "</table>\n",
       "</div>"
      ],
      "text/plain": [
       "           text_len  headline_len\n",
       "count  1.016549e+06  1.016549e+06\n",
       "mean   6.277893e+01  8.381164e+00\n",
       "std    3.583432e+01  3.459645e+00\n",
       "min    1.000000e+01  2.000000e+00\n",
       "25%    3.300000e+01  6.000000e+00\n",
       "50%    5.700000e+01  8.000000e+00\n",
       "75%    8.800000e+01  1.000000e+01\n",
       "max    1.500000e+02  2.000000e+01"
      ]
     },
     "execution_count": 15,
     "metadata": {},
     "output_type": "execute_result"
    }
   ],
   "source": [
    "df_red.describe()"
   ]
  },
  {
   "cell_type": "code",
   "execution_count": 16,
   "metadata": {
    "colab": {},
    "colab_type": "code",
    "id": "BW0kOBzz9YWe"
   },
   "outputs": [],
   "source": [
    "# Set max content and summary lengths based on outlier removal above\n",
    "max_content_len = 150\n",
    "max_summary_len = 20"
   ]
  },
  {
   "cell_type": "markdown",
   "metadata": {},
   "source": [
    "### Tokenize and convert texts into padded vectors"
   ]
  },
  {
   "cell_type": "code",
   "execution_count": 17,
   "metadata": {
    "colab": {},
    "colab_type": "code",
    "id": "DoU9y87W99Hg"
   },
   "outputs": [],
   "source": [
    "def convert_to_sequences(data, x):\n",
    "    if x:\n",
    "        length = max_content_len\n",
    "    else:\n",
    "        length = max_summary_len\n",
    "    tokenizer = Tokenizer()\n",
    "    tokenizer.fit_on_texts(list(data))\n",
    "    sequences = tokenizer.texts_to_sequences(list(data))\n",
    "    sequences = pad_sequences(sequences, maxlen=length, padding='post')\n",
    "    data = sequences\n",
    "    voc_size  =  len(tokenizer.word_index) + 1\n",
    "    return data, voc_size, tokenizer"
   ]
  },
  {
   "cell_type": "code",
   "execution_count": 18,
   "metadata": {
    "colab": {},
    "colab_type": "code",
    "id": "kJuENMT6-Iak"
   },
   "outputs": [],
   "source": [
    "# Take subset of data (first 100,000 entries) because training takes too long with all the data\n",
    "x_seqs, x_vocab_size, x_tokenizer = convert_to_sequences(df_red['clean_text'][:100000], True)\n",
    "y_seqs, y_vocab_size, y_tokenizer = convert_to_sequences(df_red['clean_headlines'][:100000], False)"
   ]
  },
  {
   "cell_type": "markdown",
   "metadata": {},
   "source": [
    "### Create training and test sets"
   ]
  },
  {
   "cell_type": "code",
   "execution_count": 19,
   "metadata": {
    "colab": {},
    "colab_type": "code",
    "id": "Jvw3jlST-U9c"
   },
   "outputs": [],
   "source": [
    "x_train, x_test, y_train, y_test = train_test_split(x_seqs, y_seqs, test_size=0.1, random_state=0, shuffle=True)"
   ]
  },
  {
   "cell_type": "markdown",
   "metadata": {},
   "source": [
    "### Build Seq2Seq model with Encoder-Decoder Architecture and Attention Layer"
   ]
  },
  {
   "cell_type": "code",
   "execution_count": 37,
   "metadata": {
    "colab": {
     "base_uri": "https://localhost:8080/",
     "height": 34
    },
    "colab_type": "code",
    "id": "mC2HwPm0oBln",
    "outputId": "be5a3b93-ca85-4420-e071-29d00f4bd880"
   },
   "outputs": [
    {
     "name": "stdout",
     "output_type": "stream",
     "text": [
      "WARNING:tensorflow:From /usr/local/lib/python3.5/dist-packages/tensorflow_core/python/keras/initializers.py:119: calling RandomUniform.__init__ (from tensorflow.python.ops.init_ops) with dtype is deprecated and will be removed in a future version.\n",
      "Instructions for updating:\n",
      "Call initializer instance with the dtype argument instead of passing it to the constructor\n",
      "WARNING:tensorflow:From /usr/local/lib/python3.5/dist-packages/tensorflow_core/python/ops/resource_variable_ops.py:1630: calling BaseResourceVariable.__init__ (from tensorflow.python.ops.resource_variable_ops) with constraint is deprecated and will be removed in a future version.\n",
      "Instructions for updating:\n",
      "If using Keras pass *_constraint arguments to layers.\n"
     ]
    }
   ],
   "source": [
    "K.clear_session()\n",
    "dim = 500\n",
    "\n",
    "# Encoder\n",
    "encoder_in = Input(shape=(max_content_len,), name='Encoder_Input')\n",
    "encoder_embedding_layer = Embedding(x_vocab_size, dim, trainable=True, name='Encoder_Embedding')(encoder_in)\n",
    "\n",
    "# LSTM1\n",
    "lstm1 = LSTM(dim, return_sequences=True, return_state=True, name='LSTM1')\n",
    "encoder_out1, hidden_state1, cell_state1 = lstm1(encoder_embedding_layer)\n",
    "\n",
    "# LSTM2\n",
    "lstm2 = LSTM(dim, return_sequences=True, return_state=True, name='LSTM2')\n",
    "encoder_out2, hidden_state2, cell_state2 = lstm2(encoder_out1)\n",
    "\n",
    "# LSTM3\n",
    "lstm3 = LSTM(dim, return_sequences=True, return_state=True, name='LSTM3')\n",
    "encoder_out, hidden_state, cell_state = lstm3(encoder_out2)\n",
    "\n",
    "# Decoder\n",
    "decoder_in = Input(shape=(None,), name='Decoder_Input')\n",
    "decoder_embedding_layer = Embedding(y_vocab_size, dim, trainable=True, name='Decoder_Embedding')\n",
    "decoder_embedding = decoder_embedding_layer(decoder_in)\n",
    "\n",
    "# Decoder LSTM\n",
    "decoder_lstm = LSTM(dim, return_sequences=True, return_state=True, name='Decoder_LSTM')\n",
    "decoder_out, fwd_state, back_state = decoder_lstm(decoder_embedding, initial_state=[hidden_state, cell_state])\n",
    "\n",
    "# Attention\n",
    "attention_layer = AttentionLayer(name='Attention_Layer')\n",
    "a_out, a_states = attention_layer([encoder_out, decoder_out])\n",
    "\n",
    "# Concatenate\n",
    "concat_in = Concatenate(axis=-1, name='Concatenate_Layer')([decoder_out, a_out])\n",
    "\n",
    "# Decoder Dense\n",
    "decoder_dense = TimeDistributed(Dense(y_vocab_size, activation='softmax'), name='Dense')\n",
    "decoder_out = decoder_dense(concat_in)\n",
    "\n",
    "model = Model([encoder_in, decoder_in], decoder_out)\n",
    "model.compile(optimizer='rmsprop', loss='sparse_categorical_crossentropy')"
   ]
  },
  {
   "cell_type": "code",
   "execution_count": 38,
   "metadata": {
    "colab": {},
    "colab_type": "code",
    "id": "j3KWzQO3tUjt"
   },
   "outputs": [
    {
     "name": "stdout",
     "output_type": "stream",
     "text": [
      "Model: \"model\"\n",
      "__________________________________________________________________________________________________\n",
      "Layer (type)                    Output Shape         Param #     Connected to                     \n",
      "==================================================================================================\n",
      "Encoder_Input (InputLayer)      [(None, 150)]        0                                            \n",
      "__________________________________________________________________________________________________\n",
      "Encoder_Embedding (Embedding)   (None, 150, 500)     106610000   Encoder_Input[0][0]              \n",
      "__________________________________________________________________________________________________\n",
      "LSTM1 (LSTM)                    [(None, 150, 500), ( 2002000     Encoder_Embedding[0][0]          \n",
      "__________________________________________________________________________________________________\n",
      "Decoder_Input (InputLayer)      [(None, None)]       0                                            \n",
      "__________________________________________________________________________________________________\n",
      "LSTM2 (LSTM)                    [(None, 150, 500), ( 2002000     LSTM1[0][0]                      \n",
      "__________________________________________________________________________________________________\n",
      "Decoder_Embedding (Embedding)   (None, None, 500)    34053500    Decoder_Input[0][0]              \n",
      "__________________________________________________________________________________________________\n",
      "LSTM3 (LSTM)                    [(None, 150, 500), ( 2002000     LSTM2[0][0]                      \n",
      "__________________________________________________________________________________________________\n",
      "Decoder_LSTM (LSTM)             [(None, None, 500),  2002000     Decoder_Embedding[0][0]          \n",
      "                                                                 LSTM3[0][1]                      \n",
      "                                                                 LSTM3[0][2]                      \n",
      "__________________________________________________________________________________________________\n",
      "Attention_Layer (AttentionLayer ((None, None, 500),  500500      LSTM3[0][0]                      \n",
      "                                                                 Decoder_LSTM[0][0]               \n",
      "__________________________________________________________________________________________________\n",
      "Concatenate_Layer (Concatenate) (None, None, 1000)   0           Decoder_LSTM[0][0]               \n",
      "                                                                 Attention_Layer[0][0]            \n",
      "__________________________________________________________________________________________________\n",
      "Dense (TimeDistributed)         (None, None, 68107)  68175107    Concatenate_Layer[0][0]          \n",
      "==================================================================================================\n",
      "Total params: 217,347,107\n",
      "Trainable params: 217,347,107\n",
      "Non-trainable params: 0\n",
      "__________________________________________________________________________________________________\n"
     ]
    }
   ],
   "source": [
    "model.summary()"
   ]
  },
  {
   "cell_type": "markdown",
   "metadata": {},
   "source": [
    "### Fit model"
   ]
  },
  {
   "cell_type": "code",
   "execution_count": 47,
   "metadata": {
    "colab": {},
    "colab_type": "code",
    "id": "xA_TKMSDqkXS"
   },
   "outputs": [
    {
     "name": "stdout",
     "output_type": "stream",
     "text": [
      "Train on 90000 samples, validate on 10000 samples\n",
      "Epoch 1/10\n",
      "90000/90000 [==============================] - 719s 8ms/sample - loss: 2.1515 - val_loss: 2.0546\n",
      "Epoch 2/10\n",
      "90000/90000 [==============================] - 709s 8ms/sample - loss: 1.9019 - val_loss: 1.8767\n",
      "Epoch 3/10\n",
      "90000/90000 [==============================] - 714s 8ms/sample - loss: 1.7469 - val_loss: 1.7981\n",
      "Epoch 4/10\n",
      "90000/90000 [==============================] - 718s 8ms/sample - loss: 1.6467 - val_loss: 1.7328\n",
      "Epoch 5/10\n",
      "90000/90000 [==============================] - 722s 8ms/sample - loss: 1.5684 - val_loss: 1.7035\n",
      "Epoch 6/10\n",
      "90000/90000 [==============================] - 725s 8ms/sample - loss: 1.5028 - val_loss: 1.6982\n",
      "Epoch 7/10\n",
      "90000/90000 [==============================] - 725s 8ms/sample - loss: 1.4444 - val_loss: 1.6880\n",
      "Epoch 8/10\n",
      "90000/90000 [==============================] - 717s 8ms/sample - loss: 1.3871 - val_loss: 1.6794\n",
      "Epoch 9/10\n",
      "90000/90000 [==============================] - 710s 8ms/sample - loss: 1.3332 - val_loss: 1.6867\n",
      "Epoch 10/10\n",
      "90000/90000 [==============================] - 720s 8ms/sample - loss: 1.2788 - val_loss: 1.6915\n"
     ]
    }
   ],
   "source": [
    "history = model.fit([x_train, y_train[:,:-1]], y_train.reshape(y_train.shape[0], y_train.shape[1], 1)[:,1:], epochs=8, batch_size=128, validation_data=([x_test, y_test[:,:-1]], y_test.reshape(y_test.shape[0], y_test.shape[1], 1)[:,1:]))"
   ]
  },
  {
   "cell_type": "code",
   "execution_count": 10,
   "metadata": {
    "colab": {},
    "colab_type": "code",
    "id": "dW9SJ5zEre2n"
   },
   "outputs": [],
   "source": [
    "os.chdir(path + '/models')"
   ]
  },
  {
   "cell_type": "code",
   "execution_count": null,
   "metadata": {},
   "outputs": [],
   "source": [
    "model.save('newModel.h5')"
   ]
  },
  {
   "cell_type": "markdown",
   "metadata": {},
   "source": [
    "### Display loss and validation loss over the epochs"
   ]
  },
  {
   "cell_type": "code",
   "execution_count": 49,
   "metadata": {
    "colab": {},
    "colab_type": "code",
    "id": "LuY7ikOutZh4"
   },
   "outputs": [
    {
     "data": {
      "image/png": "[encoded data removed]",
      "text/plain": [
       "<Figure size 432x288 with 1 Axes>"
      ]
     },
     "metadata": {
      "needs_background": "light"
     },
     "output_type": "display_data"
    }
   ],
   "source": [
    "plt.plot(history.history['loss'], label='train')\n",
    "plt.plot(history.history['val_loss'], label='test')\n",
    "plt.legend()\n",
    "plt.show()"
   ]
  },
  {
   "cell_type": "code",
   "execution_count": 50,
   "metadata": {},
   "outputs": [
    {
     "data": {
      "text/plain": [
       "<Figure size 432x288 with 0 Axes>"
      ]
     },
     "metadata": {},
     "output_type": "display_data"
    }
   ],
   "source": [
    "plt.savefig('loss.png')"
   ]
  },
  {
   "cell_type": "code",
   "execution_count": 11,
   "metadata": {},
   "outputs": [
    {
     "name": "stdout",
     "output_type": "stream",
     "text": [
      "WARNING:tensorflow:From /usr/local/lib/python3.5/dist-packages/tensorflow_core/python/keras/initializers.py:119: calling RandomUniform.__init__ (from tensorflow.python.ops.init_ops) with dtype is deprecated and will be removed in a future version.\n",
      "Instructions for updating:\n",
      "Call initializer instance with the dtype argument instead of passing it to the constructor\n",
      "WARNING:tensorflow:From /usr/local/lib/python3.5/dist-packages/tensorflow_core/python/ops/init_ops.py:97: calling GlorotUniform.__init__ (from tensorflow.python.ops.init_ops) with dtype is deprecated and will be removed in a future version.\n",
      "Instructions for updating:\n",
      "Call initializer instance with the dtype argument instead of passing it to the constructor\n",
      "WARNING:tensorflow:From /usr/local/lib/python3.5/dist-packages/tensorflow_core/python/ops/init_ops.py:97: calling Orthogonal.__init__ (from tensorflow.python.ops.init_ops) with dtype is deprecated and will be removed in a future version.\n",
      "Instructions for updating:\n",
      "Call initializer instance with the dtype argument instead of passing it to the constructor\n",
      "WARNING:tensorflow:From /usr/local/lib/python3.5/dist-packages/tensorflow_core/python/ops/init_ops.py:97: calling Zeros.__init__ (from tensorflow.python.ops.init_ops) with dtype is deprecated and will be removed in a future version.\n",
      "Instructions for updating:\n",
      "Call initializer instance with the dtype argument instead of passing it to the constructor\n",
      "WARNING:tensorflow:From /usr/local/lib/python3.5/dist-packages/tensorflow_core/python/ops/resource_variable_ops.py:1630: calling BaseResourceVariable.__init__ (from tensorflow.python.ops.resource_variable_ops) with constraint is deprecated and will be removed in a future version.\n",
      "Instructions for updating:\n",
      "If using Keras pass *_constraint arguments to layers.\n",
      "WARNING:tensorflow:From /usr/local/lib/python3.5/dist-packages/tensorflow_core/python/ops/math_grad.py:1424: where (from tensorflow.python.ops.array_ops) is deprecated and will be removed in a future version.\n",
      "Instructions for updating:\n",
      "Use tf.where in 2.0, which has the same broadcast rule as np.where\n"
     ]
    }
   ],
   "source": [
    "model = load_model('newModel.h5', custom_objects={'AttentionLayer' : AttentionLayer})"
   ]
  },
  {
   "cell_type": "markdown",
   "metadata": {},
   "source": [
    "### Create Encoder and Decoder models"
   ]
  },
  {
   "cell_type": "code",
   "execution_count": 51,
   "metadata": {
    "colab": {},
    "colab_type": "code",
    "id": "oTPi5dHmqoeG"
   },
   "outputs": [],
   "source": [
    "enc_model = Model(inputs=encoder_in, outputs=[encoder_out, hidden_state, cell_state])\n",
    "\n",
    "dec_state_in_hidden = Input(shape=(dim,))\n",
    "dec_state_in_cell = Input(shape=(dim,))\n",
    "dec_hidden_state_in = Input(shape=(max_content_len, dim))\n",
    "\n",
    "dec_emb = decoder_embedding_layer(decoder_in)\n",
    "\n",
    "dec_out2, hidden_state2, cell_state2 = decoder_lstm(dec_emb, initial_state=[dec_state_in_hidden, dec_state_in_cell])\n",
    "\n",
    "attention_out_inf, attention_state_inf = attention_layer([dec_hidden_state_in, dec_out2])\n",
    "dec_inf_concat = Concatenate(axis=-1)([dec_out2, attention_out_inf])\n",
    "\n",
    "dec_out2 = decoder_dense(dec_inf_concat)\n",
    "\n",
    "dec_model = Model([decoder_in] + [dec_hidden_state_in, dec_state_in_hidden, dec_state_in_cell], [dec_out2] + [hidden_state2, cell_state2])"
   ]
  },
  {
   "cell_type": "code",
   "execution_count": 52,
   "metadata": {
    "colab": {},
    "colab_type": "code",
    "id": "xJ8bwGu5tdS5"
   },
   "outputs": [],
   "source": [
    "enc_model.save('enc_modelNew.h5')\n",
    "dec_model.save('dec_modelNew.h5')"
   ]
  },
  {
   "cell_type": "code",
   "execution_count": 12,
   "metadata": {},
   "outputs": [
    {
     "name": "stdout",
     "output_type": "stream",
     "text": [
      "WARNING:tensorflow:No training configuration found in save file: the model was *not* compiled. Compile it manually.\n",
      "WARNING:tensorflow:No training configuration found in save file: the model was *not* compiled. Compile it manually.\n"
     ]
    }
   ],
   "source": [
    "enc_model = load_model('enc_modelNew.h5', custom_objects={'AttentionLayer' : AttentionLayer})\n",
    "dec_model = load_model('dec_modelNew.h5', custom_objects={'AttentionLayer' : AttentionLayer})"
   ]
  },
  {
   "cell_type": "markdown",
   "metadata": {},
   "source": [
    "### Prediction method"
   ]
  },
  {
   "cell_type": "code",
   "execution_count": 13,
   "metadata": {
    "colab": {},
    "colab_type": "code",
    "id": "WRKirURWq7aL"
   },
   "outputs": [],
   "source": [
    "def predict(sequence):\n",
    "    sequence = sequence.reshape(1, max_content_len)\n",
    "    enc_out, enc_h, enc_c = enc_model.predict(sequence)\n",
    "\n",
    "    t_sequence = np.zeros((1, 1))\n",
    "    t_sequence[0, 0] = y_tokenizer.word_index['start']\n",
    "\n",
    "    dec_seq = ''\n",
    "    stop = False\n",
    "\n",
    "    while not stop: \n",
    "        out, hidden, cell = dec_model.predict([t_sequence] + [enc_out, enc_h, enc_c])\n",
    "        sample_index = np.argmax(out[0, -1, :])\n",
    "        try:\n",
    "            sample = y_tokenizer.index_word[sample_index]\n",
    "        except:\n",
    "            stop = True\n",
    "            \n",
    "        if (sample != 'end'):\n",
    "            dec_seq += ' ' + sample\n",
    "\n",
    "            if (sample == 'end' or len(dec_seq.split()) >= (max_summary_len - 1)):\n",
    "                stop = True\n",
    "\n",
    "        t_sequence = np.zeros((1, 1))\n",
    "        t_sequence[0, 0] = sample_index\n",
    "\n",
    "        enc_h, enc_c = hidden, cell\n",
    "\n",
    "        \n",
    "    return dec_seq             "
   ]
  },
  {
   "cell_type": "markdown",
   "metadata": {},
   "source": [
    "### Convert padded vectors back into text format"
   ]
  },
  {
   "cell_type": "code",
   "execution_count": 14,
   "metadata": {
    "colab": {},
    "colab_type": "code",
    "id": "LQpVPE-Cq99Z"
   },
   "outputs": [],
   "source": [
    "def get_content(x):\n",
    "    content = ''\n",
    "    for i in x:\n",
    "        if (i != 0):\n",
    "            content += x_tokenizer.index_word[i] + ' '\n",
    "    return content"
   ]
  },
  {
   "cell_type": "code",
   "execution_count": 15,
   "metadata": {
    "colab": {},
    "colab_type": "code",
    "id": "UIW0SSM2rA5v"
   },
   "outputs": [],
   "source": [
    "def get_summary(y):\n",
    "    summary = ''\n",
    "    for i in y:\n",
    "        if (i not in [0,1,2]):\n",
    "            summary += y_tokenizer.index_word[i] + ' '\n",
    "    return summary"
   ]
  },
  {
   "cell_type": "code",
   "execution_count": 16,
   "metadata": {},
   "outputs": [],
   "source": [
    "def display(index):\n",
    "    print(\"Text: \" + get_content(x_test[index]))\n",
    "    print(\"\\nSummary: \" + get_summary(y_test[index]))\n",
    "    print(\"\\nPredicted Summary:\" + predict(x_test[index]))"
   ]
  },
  {
   "cell_type": "code",
   "execution_count": 27,
   "metadata": {},
   "outputs": [
    {
     "name": "stdout",
     "output_type": "stream",
     "text": [
      "Text: smoking a cigarette will increase your blood pressure for a few minutes and smoking is also very bad for your health overall if you smoke cigarettes your body will be less equipped in general to maintain health as well as experiencing spikes in your blood pressure many people smoke cigarettes to handle stress so it is important to find an alternative stress reliever cigarette smoking can lead to health complications that will also cause you stress and limit your lifestyle cigarettes are expensive and heavily taxed in some areas they can cause financial stress to some people with tight budgets in some cultures and cities there is a social stigma against cigarette smoking experiencing pushback for smoking from your friends or coworkers can cause you stress \n",
      "\n",
      "Summary: avoid cigarette smoking \n",
      "\n",
      "Predicted Summary: quit smoking\n"
     ]
    }
   ],
   "source": [
    "display(0)"
   ]
  },
  {
   "cell_type": "markdown",
   "metadata": {},
   "source": [
    "### Calculate ROUGE metric"
   ]
  },
  {
   "cell_type": "code",
   "execution_count": 28,
   "metadata": {},
   "outputs": [],
   "source": [
    "evaluator = Rouge(metrics=['rouge-l'])"
   ]
  },
  {
   "cell_type": "code",
   "execution_count": 29,
   "metadata": {},
   "outputs": [],
   "source": [
    "candidates = []\n",
    "references = []\n",
    "contents = []\n",
    "\n",
    "for i in range(len(x_test)):\n",
    "    contents.append(get_content(x_test[i]))\n",
    "    candidates.append(predict(x_test[i]))\n",
    "    references.append(get_summary(y_test[i]))"
   ]
  },
  {
   "cell_type": "code",
   "execution_count": 30,
   "metadata": {},
   "outputs": [],
   "source": [
    "scores = evaluator.get_scores(candidates, references)"
   ]
  },
  {
   "cell_type": "code",
   "execution_count": 31,
   "metadata": {},
   "outputs": [],
   "source": [
    "fscores = []\n",
    "precisions = []\n",
    "recalls = []\n",
    "\n",
    "for i in range(len(scores)):\n",
    "    fscores.append(scores[i]['rouge-l']['f'])\n",
    "    precisions.append(scores[i]['rouge-l']['p'])\n",
    "    recalls.append(scores[i]['rouge-l']['r'])"
   ]
  },
  {
   "cell_type": "code",
   "execution_count": 32,
   "metadata": {},
   "outputs": [],
   "source": [
    "results_df = pd.DataFrame()\n",
    "results_df['content'] = contents\n",
    "results_df['reference'] = references\n",
    "results_df['candidate'] = candidates\n",
    "results_df['f-score'] = fscores\n",
    "results_df['precision'] = precisions\n",
    "results_df['recall'] = recalls"
   ]
  },
  {
   "cell_type": "code",
   "execution_count": 33,
   "metadata": {},
   "outputs": [
    {
     "data": {
      "text/html": [
       "<div>\n",
       "<style scoped>\n",
       "    .dataframe tbody tr th:only-of-type {\n",
       "        vertical-align: middle;\n",
       "    }\n",
       "\n",
       "    .dataframe tbody tr th {\n",
       "        vertical-align: top;\n",
       "    }\n",
       "\n",
       "    .dataframe thead th {\n",
       "        text-align: right;\n",
       "    }\n",
       "</style>\n",
       "<table border=\"1\" class=\"dataframe\">\n",
       "  <thead>\n",
       "    <tr style=\"text-align: right;\">\n",
       "      <th></th>\n",
       "      <th>content</th>\n",
       "      <th>reference</th>\n",
       "      <th>candidate</th>\n",
       "      <th>f-score</th>\n",
       "      <th>precision</th>\n",
       "      <th>recall</th>\n",
       "    </tr>\n",
       "  </thead>\n",
       "  <tbody>\n",
       "    <tr>\n",
       "      <th>0</th>\n",
       "      <td>smoking a cigarette will increase your blood p...</td>\n",
       "      <td>avoid cigarette smoking</td>\n",
       "      <td>quit smoking</td>\n",
       "      <td>0.371429</td>\n",
       "      <td>0.5</td>\n",
       "      <td>0.333333</td>\n",
       "    </tr>\n",
       "    <tr>\n",
       "      <th>1</th>\n",
       "      <td>for example if you want to quit smoking so tha...</td>\n",
       "      <td>alter it so that every benefit of giving up yo...</td>\n",
       "      <td>write down your quit smoking</td>\n",
       "      <td>0.058587</td>\n",
       "      <td>0.2</td>\n",
       "      <td>0.055556</td>\n",
       "    </tr>\n",
       "    <tr>\n",
       "      <th>2</th>\n",
       "      <td>having a depressed parent is difficult your fe...</td>\n",
       "      <td>remember that it's okay to cry</td>\n",
       "      <td>avoid emotions</td>\n",
       "      <td>0.000000</td>\n",
       "      <td>0.0</td>\n",
       "      <td>0.000000</td>\n",
       "    </tr>\n",
       "    <tr>\n",
       "      <th>3</th>\n",
       "      <td>this is particularly important to do if you li...</td>\n",
       "      <td>wash your hands regularly and maintain good hy...</td>\n",
       "      <td>wash your hands</td>\n",
       "      <td>0.406308</td>\n",
       "      <td>1.0</td>\n",
       "      <td>0.375000</td>\n",
       "    </tr>\n",
       "    <tr>\n",
       "      <th>4</th>\n",
       "      <td>after a surgery there will be a number of doct...</td>\n",
       "      <td>offer to go to any follow up exams with your f...</td>\n",
       "      <td>get a referral to a treatment</td>\n",
       "      <td>0.111111</td>\n",
       "      <td>0.2</td>\n",
       "      <td>0.100000</td>\n",
       "    </tr>\n",
       "  </tbody>\n",
       "</table>\n",
       "</div>"
      ],
      "text/plain": [
       "                                             content  \\\n",
       "0  smoking a cigarette will increase your blood p...   \n",
       "1  for example if you want to quit smoking so tha...   \n",
       "2  having a depressed parent is difficult your fe...   \n",
       "3  this is particularly important to do if you li...   \n",
       "4  after a surgery there will be a number of doct...   \n",
       "\n",
       "                                           reference  \\\n",
       "0                           avoid cigarette smoking    \n",
       "1  alter it so that every benefit of giving up yo...   \n",
       "2                    remember that it's okay to cry    \n",
       "3  wash your hands regularly and maintain good hy...   \n",
       "4  offer to go to any follow up exams with your f...   \n",
       "\n",
       "                        candidate   f-score  precision    recall  \n",
       "0                    quit smoking  0.371429        0.5  0.333333  \n",
       "1    write down your quit smoking  0.058587        0.2  0.055556  \n",
       "2                  avoid emotions  0.000000        0.0  0.000000  \n",
       "3                 wash your hands  0.406308        1.0  0.375000  \n",
       "4   get a referral to a treatment  0.111111        0.2  0.100000  "
      ]
     },
     "execution_count": 33,
     "metadata": {},
     "output_type": "execute_result"
    }
   ],
   "source": [
    "results_df.head()"
   ]
  },
  {
   "cell_type": "code",
   "execution_count": 17,
   "metadata": {},
   "outputs": [],
   "source": [
    "os.chdir(path + '/data')"
   ]
  },
  {
   "cell_type": "code",
   "execution_count": 35,
   "metadata": {},
   "outputs": [],
   "source": [
    "results_df.to_csv('results.csv', index=None)"
   ]
  },
  {
   "cell_type": "code",
   "execution_count": 3,
   "metadata": {},
   "outputs": [],
   "source": [
    "results_df = pd.read_csv('results.csv', index_col=None, usecols=['content', 'reference', 'candidate', 'f-score', 'precision', 'recall'])"
   ]
  },
  {
   "cell_type": "code",
   "execution_count": 4,
   "metadata": {},
   "outputs": [
    {
     "data": {
      "text/html": [
       "<div>\n",
       "<style scoped>\n",
       "    .dataframe tbody tr th:only-of-type {\n",
       "        vertical-align: middle;\n",
       "    }\n",
       "\n",
       "    .dataframe tbody tr th {\n",
       "        vertical-align: top;\n",
       "    }\n",
       "\n",
       "    .dataframe thead th {\n",
       "        text-align: right;\n",
       "    }\n",
       "</style>\n",
       "<table border=\"1\" class=\"dataframe\">\n",
       "  <thead>\n",
       "    <tr style=\"text-align: right;\">\n",
       "      <th></th>\n",
       "      <th>content</th>\n",
       "      <th>reference</th>\n",
       "      <th>candidate</th>\n",
       "      <th>f-score</th>\n",
       "      <th>precision</th>\n",
       "      <th>recall</th>\n",
       "    </tr>\n",
       "  </thead>\n",
       "  <tbody>\n",
       "    <tr>\n",
       "      <th>7125</th>\n",
       "      <td>any increase in redness swelling pain or pus i...</td>\n",
       "      <td>watch for signs of infection</td>\n",
       "      <td>watch for signs of infection</td>\n",
       "      <td>1.0</td>\n",
       "      <td>1.0</td>\n",
       "      <td>1.0</td>\n",
       "    </tr>\n",
       "    <tr>\n",
       "      <th>743</th>\n",
       "      <td>like endorphins that will improve your mood ex...</td>\n",
       "      <td>exercise</td>\n",
       "      <td>exercise</td>\n",
       "      <td>1.0</td>\n",
       "      <td>1.0</td>\n",
       "      <td>1.0</td>\n",
       "    </tr>\n",
       "    <tr>\n",
       "      <th>7559</th>\n",
       "      <td>a great way to give back to the community and ...</td>\n",
       "      <td>volunteer</td>\n",
       "      <td>volunteer</td>\n",
       "      <td>1.0</td>\n",
       "      <td>1.0</td>\n",
       "      <td>1.0</td>\n",
       "    </tr>\n",
       "    <tr>\n",
       "      <th>8986</th>\n",
       "      <td>in case you weren't aware smoking is bad news ...</td>\n",
       "      <td>quit smoking</td>\n",
       "      <td>quit smoking</td>\n",
       "      <td>1.0</td>\n",
       "      <td>1.0</td>\n",
       "      <td>1.0</td>\n",
       "    </tr>\n",
       "    <tr>\n",
       "      <th>5261</th>\n",
       "      <td>you to acknowledge your thoughts and feelings ...</td>\n",
       "      <td>keep a journal</td>\n",
       "      <td>keep a journal</td>\n",
       "      <td>1.0</td>\n",
       "      <td>1.0</td>\n",
       "      <td>1.0</td>\n",
       "    </tr>\n",
       "  </tbody>\n",
       "</table>\n",
       "</div>"
      ],
      "text/plain": [
       "                                                content  \\\n",
       "7125  any increase in redness swelling pain or pus i...   \n",
       "743   like endorphins that will improve your mood ex...   \n",
       "7559  a great way to give back to the community and ...   \n",
       "8986  in case you weren't aware smoking is bad news ...   \n",
       "5261  you to acknowledge your thoughts and feelings ...   \n",
       "\n",
       "                          reference                      candidate  f-score  \\\n",
       "7125  watch for signs of infection    watch for signs of infection      1.0   \n",
       "743                       exercise                        exercise      1.0   \n",
       "7559                     volunteer                       volunteer      1.0   \n",
       "8986                  quit smoking                    quit smoking      1.0   \n",
       "5261                keep a journal                  keep a journal      1.0   \n",
       "\n",
       "      precision  recall  \n",
       "7125        1.0     1.0  \n",
       "743         1.0     1.0  \n",
       "7559        1.0     1.0  \n",
       "8986        1.0     1.0  \n",
       "5261        1.0     1.0  "
      ]
     },
     "execution_count": 4,
     "metadata": {},
     "output_type": "execute_result"
    }
   ],
   "source": [
    "sorted_results = results_df.sort_values(by=['f-score'], ascending=False)\n",
    "sorted_results.head()"
   ]
  },
  {
   "cell_type": "code",
   "execution_count": 18,
   "metadata": {},
   "outputs": [
    {
     "ename": "NameError",
     "evalue": "name 'x_test' is not defined",
     "output_type": "error",
     "traceback": [
      "\u001b[0;31m---------------------------------------------------------------------------\u001b[0m",
      "\u001b[0;31mNameError\u001b[0m                                 Traceback (most recent call last)",
      "\u001b[0;32m<ipython-input-18-6872aff4e689>\u001b[0m in \u001b[0;36m<module>\u001b[0;34m\u001b[0m\n\u001b[0;32m----> 1\u001b[0;31m \u001b[0mdisplay\u001b[0m\u001b[0;34m(\u001b[0m\u001b[0;36m7125\u001b[0m\u001b[0;34m)\u001b[0m\u001b[0;34m\u001b[0m\u001b[0m\n\u001b[0m",
      "\u001b[0;32m<ipython-input-16-02cd18d48752>\u001b[0m in \u001b[0;36mdisplay\u001b[0;34m(index)\u001b[0m\n\u001b[1;32m      1\u001b[0m \u001b[0;32mdef\u001b[0m \u001b[0mdisplay\u001b[0m\u001b[0;34m(\u001b[0m\u001b[0mindex\u001b[0m\u001b[0;34m)\u001b[0m\u001b[0;34m:\u001b[0m\u001b[0;34m\u001b[0m\u001b[0m\n\u001b[0;32m----> 2\u001b[0;31m     \u001b[0mprint\u001b[0m\u001b[0;34m(\u001b[0m\u001b[0;34m\"Text: \"\u001b[0m \u001b[0;34m+\u001b[0m \u001b[0mget_content\u001b[0m\u001b[0;34m(\u001b[0m\u001b[0mx_test\u001b[0m\u001b[0;34m[\u001b[0m\u001b[0mindex\u001b[0m\u001b[0;34m]\u001b[0m\u001b[0;34m)\u001b[0m\u001b[0;34m)\u001b[0m\u001b[0;34m\u001b[0m\u001b[0m\n\u001b[0m\u001b[1;32m      3\u001b[0m     \u001b[0mprint\u001b[0m\u001b[0;34m(\u001b[0m\u001b[0;34m\"\\nSummary: \"\u001b[0m \u001b[0;34m+\u001b[0m \u001b[0mget_summary\u001b[0m\u001b[0;34m(\u001b[0m\u001b[0my_test\u001b[0m\u001b[0;34m[\u001b[0m\u001b[0mindex\u001b[0m\u001b[0;34m]\u001b[0m\u001b[0;34m)\u001b[0m\u001b[0;34m)\u001b[0m\u001b[0;34m\u001b[0m\u001b[0m\n\u001b[1;32m      4\u001b[0m     \u001b[0mprint\u001b[0m\u001b[0;34m(\u001b[0m\u001b[0;34m\"\\nPredicted Summary:\"\u001b[0m \u001b[0;34m+\u001b[0m \u001b[0mpredict\u001b[0m\u001b[0;34m(\u001b[0m\u001b[0mx_test\u001b[0m\u001b[0;34m[\u001b[0m\u001b[0mindex\u001b[0m\u001b[0;34m]\u001b[0m\u001b[0;34m)\u001b[0m\u001b[0;34m)\u001b[0m\u001b[0;34m\u001b[0m\u001b[0m\n",
      "\u001b[0;31mNameError\u001b[0m: name 'x_test' is not defined"
     ]
    }
   ],
   "source": [
    "display(7125)"
   ]
  },
  {
   "cell_type": "code",
   "execution_count": 9,
   "metadata": {},
   "outputs": [
    {
     "data": {
      "text/plain": [
       "4603"
      ]
     },
     "metadata": {},
     "output_type": "display_data"
    }
   ],
   "source": [
    "display(4603)"
   ]
  },
  {
   "cell_type": "markdown",
   "metadata": {},
   "source": [
    "### Calculate results and statistics"
   ]
  },
  {
   "cell_type": "code",
   "execution_count": 5,
   "metadata": {},
   "outputs": [
    {
     "data": {
      "text/plain": [
       "0.1437594858072432"
      ]
     },
     "execution_count": 5,
     "metadata": {},
     "output_type": "execute_result"
    }
   ],
   "source": [
    "results_df['f-score'].mean()"
   ]
  },
  {
   "cell_type": "code",
   "execution_count": 6,
   "metadata": {},
   "outputs": [],
   "source": [
    "ref_summary_lengths = []\n",
    "cand_summary_lengths = []\n",
    "\n",
    "for summary in results_df['reference']:\n",
    "    ref_summary_lengths.append(len(summary.split()))\n",
    "    \n",
    "for summary in results_df['candidate']:\n",
    "    cand_summary_lengths.append(len(summary.split()))"
   ]
  },
  {
   "cell_type": "code",
   "execution_count": 7,
   "metadata": {},
   "outputs": [
    {
     "data": {
      "text/html": [
       "<div>\n",
       "<style scoped>\n",
       "    .dataframe tbody tr th:only-of-type {\n",
       "        vertical-align: middle;\n",
       "    }\n",
       "\n",
       "    .dataframe tbody tr th {\n",
       "        vertical-align: top;\n",
       "    }\n",
       "\n",
       "    .dataframe thead th {\n",
       "        text-align: right;\n",
       "    }\n",
       "</style>\n",
       "<table border=\"1\" class=\"dataframe\">\n",
       "  <thead>\n",
       "    <tr style=\"text-align: right;\">\n",
       "      <th></th>\n",
       "      <th>content</th>\n",
       "      <th>reference</th>\n",
       "      <th>candidate</th>\n",
       "      <th>f-score</th>\n",
       "      <th>precision</th>\n",
       "      <th>recall</th>\n",
       "      <th>reference_length</th>\n",
       "      <th>candidate_length</th>\n",
       "    </tr>\n",
       "  </thead>\n",
       "  <tbody>\n",
       "    <tr>\n",
       "      <th>0</th>\n",
       "      <td>smoking a cigarette will increase your blood p...</td>\n",
       "      <td>avoid cigarette smoking</td>\n",
       "      <td>quit smoking</td>\n",
       "      <td>0.371429</td>\n",
       "      <td>0.5</td>\n",
       "      <td>0.333333</td>\n",
       "      <td>3</td>\n",
       "      <td>2</td>\n",
       "    </tr>\n",
       "    <tr>\n",
       "      <th>1</th>\n",
       "      <td>for example if you want to quit smoking so tha...</td>\n",
       "      <td>alter it so that every benefit of giving up yo...</td>\n",
       "      <td>write down your quit smoking</td>\n",
       "      <td>0.058587</td>\n",
       "      <td>0.2</td>\n",
       "      <td>0.055556</td>\n",
       "      <td>19</td>\n",
       "      <td>5</td>\n",
       "    </tr>\n",
       "    <tr>\n",
       "      <th>2</th>\n",
       "      <td>having a depressed parent is difficult your fe...</td>\n",
       "      <td>remember that it's okay to cry</td>\n",
       "      <td>avoid emotions</td>\n",
       "      <td>0.000000</td>\n",
       "      <td>0.0</td>\n",
       "      <td>0.000000</td>\n",
       "      <td>6</td>\n",
       "      <td>2</td>\n",
       "    </tr>\n",
       "    <tr>\n",
       "      <th>3</th>\n",
       "      <td>this is particularly important to do if you li...</td>\n",
       "      <td>wash your hands regularly and maintain good hy...</td>\n",
       "      <td>wash your hands</td>\n",
       "      <td>0.406308</td>\n",
       "      <td>1.0</td>\n",
       "      <td>0.375000</td>\n",
       "      <td>8</td>\n",
       "      <td>3</td>\n",
       "    </tr>\n",
       "    <tr>\n",
       "      <th>4</th>\n",
       "      <td>after a surgery there will be a number of doct...</td>\n",
       "      <td>offer to go to any follow up exams with your f...</td>\n",
       "      <td>get a referral to a treatment</td>\n",
       "      <td>0.111111</td>\n",
       "      <td>0.2</td>\n",
       "      <td>0.100000</td>\n",
       "      <td>11</td>\n",
       "      <td>6</td>\n",
       "    </tr>\n",
       "  </tbody>\n",
       "</table>\n",
       "</div>"
      ],
      "text/plain": [
       "                                             content  \\\n",
       "0  smoking a cigarette will increase your blood p...   \n",
       "1  for example if you want to quit smoking so tha...   \n",
       "2  having a depressed parent is difficult your fe...   \n",
       "3  this is particularly important to do if you li...   \n",
       "4  after a surgery there will be a number of doct...   \n",
       "\n",
       "                                           reference  \\\n",
       "0                           avoid cigarette smoking    \n",
       "1  alter it so that every benefit of giving up yo...   \n",
       "2                    remember that it's okay to cry    \n",
       "3  wash your hands regularly and maintain good hy...   \n",
       "4  offer to go to any follow up exams with your f...   \n",
       "\n",
       "                        candidate   f-score  precision    recall  \\\n",
       "0                    quit smoking  0.371429        0.5  0.333333   \n",
       "1    write down your quit smoking  0.058587        0.2  0.055556   \n",
       "2                  avoid emotions  0.000000        0.0  0.000000   \n",
       "3                 wash your hands  0.406308        1.0  0.375000   \n",
       "4   get a referral to a treatment  0.111111        0.2  0.100000   \n",
       "\n",
       "   reference_length  candidate_length  \n",
       "0                 3                 2  \n",
       "1                19                 5  \n",
       "2                 6                 2  \n",
       "3                 8                 3  \n",
       "4                11                 6  "
      ]
     },
     "execution_count": 7,
     "metadata": {},
     "output_type": "execute_result"
    }
   ],
   "source": [
    "results_df['reference_length'] = ref_summary_lengths\n",
    "results_df['candidate_length'] = cand_summary_lengths\n",
    "results_df.head()"
   ]
  },
  {
   "cell_type": "code",
   "execution_count": 20,
   "metadata": {},
   "outputs": [
    {
     "data": {
      "text/plain": [
       "6.532"
      ]
     },
     "execution_count": 20,
     "metadata": {},
     "output_type": "execute_result"
    }
   ],
   "source": [
    "results_df['reference_length'].mean()"
   ]
  },
  {
   "cell_type": "code",
   "execution_count": 21,
   "metadata": {},
   "outputs": [
    {
     "data": {
      "text/plain": [
       "4.9765"
      ]
     },
     "execution_count": 21,
     "metadata": {},
     "output_type": "execute_result"
    }
   ],
   "source": [
    "results_df['candidate_length'].mean()"
   ]
  },
  {
   "cell_type": "code",
   "execution_count": 35,
   "metadata": {},
   "outputs": [
    {
     "data": {
      "image/png": "[encoded data removed]",
      "text/plain": [
       "<Figure size 432x288 with 1 Axes>"
      ]
     },
     "metadata": {
      "needs_background": "light"
     },
     "output_type": "display_data"
    }
   ],
   "source": [
    "x = results_df['candidate_length']\n",
    "y = results_df['f-score']\n",
    "z = np.polyfit(x, y, 1)\n",
    "p = np.poly1d(z)\n",
    "plt.plot(x, p(x), \"r--\")\n",
    "plt.scatter(x, y)\n",
    "plt.xlabel(\"Length of Candidate Summary\")\n",
    "plt.ylabel(\"Rouge-l F1-score\")\n",
    "plt.title(\"Length of Candidate Summary vs. Rouge-l F1-score\")\n",
    "plt.show()"
   ]
  }
 ],
 "metadata": {
  "colab": {
   "collapsed_sections": [],
   "machine_shape": "hm",
   "name": "FinalProjectNew",
   "provenance": []
  },
  "kernelspec": {
   "display_name": "Python 3",
   "language": "python",
   "name": "python3"
  },
  "language_info": {
   "codemirror_mode": {
    "name": "ipython",
    "version": 3
   },
   "file_extension": ".py",
   "mimetype": "text/x-python",
   "name": "python",
   "nbconvert_exporter": "python",
   "pygments_lexer": "ipython3",
   "version": "3.5.3"
  }
 },
 "nbformat": 4,
 "nbformat_minor": 1
}
